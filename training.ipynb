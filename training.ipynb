{
 "cells": [
  {
   "cell_type": "code",
   "execution_count": 171,
   "metadata": {},
   "outputs": [],
   "source": [
    "from functools import lru_cache\n",
    "import pandas as pd\n",
    "import uuid\n",
    "import os\n",
    "import requests\n",
    "from tqdm import tqdm_notebook as tqdm\n",
    "from pymatgen.core import Structure\n",
    "\n",
    "from ase.ga.slab_operators import (CutSpliceSlabCrossover,\n",
    "                                   RandomSlabPermutation,\n",
    "                                   RandomCompositionMutation)\n",
    "from ase.ga.offspring_creator import OperationSelector\n",
    "from ase import io\n",
    "from ase import Atoms\n",
    "\n",
    "import argparse\n",
    "import os\n",
    "import shutil\n",
    "import sys\n",
    "import time\n",
    "\n",
    "import numpy as np\n",
    "import torch\n",
    "import torch.nn as nn\n",
    "from sklearn import metrics\n",
    "from torch.autograd import Variable\n",
    "from torch.utils.data import DataLoader, Dataset\n",
    "\n",
    "from cgcnn.cgcnn.data import CIFData\n",
    "from cgcnn.cgcnn.data import collate_pool\n",
    "from cgcnn.cgcnn.model import CrystalGraphConvNet\n",
    "\n",
    "import csv\n",
    "import functools\n",
    "import json\n",
    "import os\n",
    "import random\n",
    "import uuid\n",
    "import warnings\n",
    "warnings.simplefilter(\"ignore\")\n",
    "import numpy as np\n",
    "from torch.utils.data.dataloader import default_collate\n",
    "from torch.utils.data.sampler import SubsetRandomSampler"
   ]
  },
  {
   "cell_type": "code",
   "execution_count": 274,
   "metadata": {},
   "outputs": [
    {
     "data": {
      "text/plain": [
       "(Atoms(symbols='H2O3Se158Sn71', pbc=True, cell=[[26.902, 0.0, 0.0], [-13.450999999999995, 23.297815412608973, 0.0], [0.0, 0.0, 30.673]], spacegroup_kinds=...),\n",
       " 'CutSpliceSlabCrossover: Parents Sn4Se8Sn2Se6SnSeSn4Se6SnSeSnSe2Sn2Se6SnSe3Sn5Se9SnSe5Sn3Se6SnSe5Sn3Se6SnSe2Sn3Se10SnSe3Sn3Se7SnSe2Sn2Se6Sn4Se8SnSe4Sn4Se9Sn3Se4Sn5Se7Sn2Se6SnSeSnSe3Sn3Se10Sn2SeSn2Se6SnSe3SnSe2SnSe3SnSe CoGeSnV3SeOSe3OSn2Se3O2SeSnSeSn4Se6SnSe4Sn2Se6SnSe3Sn5Se8Sn2Se5Sn3Se6SnSe5Sn3Se6SnSe2Sn3Se9Sn2Se3Sn3Se7SnSe2Sn2Se6Sn4Se8SnSe4SnHSnNH2NHSeNSe3Sn3Se5Sn4Se7Sn2Se6SnSeSnSe3SnHOSe5OSe4Sn2SeSn2Se6SnSe3SnSe2SnSe3SnSe')"
      ]
     },
     "execution_count": 274,
     "metadata": {},
     "output_type": "execute_result"
    }
   ],
   "source": [
    "oclist = [(5, CutSpliceSlabCrossover()),\n",
    "          (2, RandomSlabPermutation()),\n",
    "          #(1, RandomCompositionMutation())\n",
    "          ]\n",
    "operation_selector = OperationSelector(*zip(*oclist))\n",
    "def mutate(a,b):\n",
    "    a.info['confid'] = a.symbols\n",
    "    b.info['confid'] = b.symbols\n",
    "    op = operation_selector.get_operator()\n",
    "    if type(op).__name__ == \"CutSpliceSlabCrossover\":\n",
    "        if a.get_positions().shape[0] > b.get_positions().shape[0]:\n",
    "            del a[b.get_positions().shape[0]:]\n",
    "        else:\n",
    "            del b[a.get_positions().shape[0]:]\n",
    "    return op.get_new_individual((a,b))\n",
    "mutate(f,m)"
   ]
  },
  {
   "cell_type": "code",
   "execution_count": 3,
   "metadata": {},
   "outputs": [],
   "source": [
    "class Normalizer(object):\n",
    "    \"\"\"Normalize a Tensor and restore it later. \"\"\"\n",
    "    def __init__(self, tensor):\n",
    "        \"\"\"tensor is taken as a sample to calculate the mean and std\"\"\"\n",
    "        self.mean = torch.mean(tensor)\n",
    "        self.std = torch.std(tensor)\n",
    "\n",
    "    def norm(self, tensor):\n",
    "        return (tensor - self.mean) / self.std\n",
    "\n",
    "    def denorm(self, normed_tensor):\n",
    "        return normed_tensor * self.std + self.mean\n",
    "\n",
    "    def state_dict(self):\n",
    "        return {'mean': self.mean,\n",
    "                'std': self.std}\n",
    "\n",
    "    def load_state_dict(self, state_dict):\n",
    "        self.mean = state_dict['mean']\n",
    "        self.std = state_dict['std']\n",
    "class AtomInitializer(object):\n",
    "    \"\"\"\n",
    "    Base class for intializing the vector representation for atoms.\n",
    "\n",
    "    !!! Use one AtomInitializer per dataset !!!\n",
    "    \"\"\"\n",
    "    def __init__(self, atom_types):\n",
    "        self.atom_types = set(atom_types)\n",
    "        self._embedding = {}\n",
    "\n",
    "    def get_atom_fea(self, atom_type):\n",
    "        assert atom_type in self.atom_types\n",
    "        return self._embedding[atom_type]\n",
    "\n",
    "    def load_state_dict(self, state_dict):\n",
    "        self._embedding = state_dict\n",
    "        self.atom_types = set(self._embedding.keys())\n",
    "        self._decodedict = {idx: atom_type for atom_type, idx in\n",
    "                            self._embedding.items()}\n",
    "\n",
    "    def state_dict(self):\n",
    "        return self._embedding\n",
    "\n",
    "    def decode(self, idx):\n",
    "        if not hasattr(self, '_decodedict'):\n",
    "            self._decodedict = {idx: atom_type for atom_type, idx in\n",
    "                                self._embedding.items()}\n",
    "        return self._decodedict[idx]\n",
    "class AtomCustomJSONInitializer(AtomInitializer):\n",
    "    \"\"\"\n",
    "    Initialize atom feature vectors using a JSON file, which is a python\n",
    "    dictionary mapping from element number to a list representing the\n",
    "    feature vector of the element.\n",
    "\n",
    "    Parameters\n",
    "    ----------\n",
    "\n",
    "    elem_embedding_file: str\n",
    "        The path to the .json file\n",
    "    \"\"\"\n",
    "    def __init__(self, elem_embedding_file):\n",
    "        with open(elem_embedding_file) as f:\n",
    "            elem_embedding = json.load(f)\n",
    "        elem_embedding = {int(key): value for key, value\n",
    "                          in elem_embedding.items()}\n",
    "        atom_types = set(elem_embedding.keys())\n",
    "        super(AtomCustomJSONInitializer, self).__init__(atom_types)\n",
    "        for key, value in elem_embedding.items():\n",
    "            self._embedding[key] = np.array(value, dtype=float)\n",
    "class GaussianDistance(object):\n",
    "    \"\"\"\n",
    "    Expands the distance by Gaussian basis.\n",
    "\n",
    "    Unit: angstrom\n",
    "    \"\"\"\n",
    "    def __init__(self, dmin, dmax, step, var=None):\n",
    "        \"\"\"\n",
    "        Parameters\n",
    "        ----------\n",
    "\n",
    "        dmin: float\n",
    "          Minimum interatomic distance\n",
    "        dmax: float\n",
    "          Maximum interatomic distance\n",
    "        step: float\n",
    "          Step size for the Gaussian filter\n",
    "        \"\"\"\n",
    "        assert dmin < dmax\n",
    "        assert dmax - dmin > step\n",
    "        self.filter = np.arange(dmin, dmax+step, step)\n",
    "        if var is None:\n",
    "            var = step\n",
    "        self.var = var\n",
    "\n",
    "    def expand(self, distances):\n",
    "        \"\"\"\n",
    "        Apply Gaussian disntance filter to a numpy distance array\n",
    "\n",
    "        Parameters\n",
    "        ----------\n",
    "\n",
    "        distance: np.array shape n-d array\n",
    "          A distance matrix of any shape\n",
    "\n",
    "        Returns\n",
    "        -------\n",
    "        expanded_distance: shape (n+1)-d array\n",
    "          Expanded distance matrix with the last dimension of length\n",
    "          len(self.filter)\n",
    "        \"\"\"\n",
    "        return np.exp(-(distances[..., np.newaxis] - self.filter)**2 /\n",
    "                      self.var**2)\n",
    "\n",
    "atom_init_file = \"atom_init.json\"\n",
    "ari = AtomCustomJSONInitializer(atom_init_file)\n",
    "gdf = GaussianDistance(dmin=0, dmax=8, step=0.2)\n",
    "def toTensor(crystal):\n",
    "    max_num_nbr = 12\n",
    "    radius = 8\n",
    "    atom_fea = np.vstack([ari.get_atom_fea(crystal[i].specie.number)\n",
    "                          for i in range(len(crystal))])\n",
    "    atom_fea = torch.Tensor(atom_fea)\n",
    "    all_nbrs = crystal.get_all_neighbors(radius, include_index=True)\n",
    "    all_nbrs = [sorted(nbrs, key=lambda x: x[1]) for nbrs in all_nbrs]\n",
    "    nbr_fea_idx, nbr_fea = [], []\n",
    "    for nbr in all_nbrs:\n",
    "        if len(nbr) < max_num_nbr:\n",
    "            warnings.warn('{} not find enough neighbors to build graph. '\n",
    "                          'If it happens frequently, consider increase '\n",
    "                          'radius.'.format(cif_id))\n",
    "            nbr_fea_idx.append(list(map(lambda x: x[2], nbr)) +\n",
    "                               [0] * (max_num_nbr - len(nbr)))\n",
    "            nbr_fea.append(list(map(lambda x: x[1], nbr)) +\n",
    "                           [radius + 1.] * (max_num_nbr -\n",
    "                                                 len(nbr)))\n",
    "        else:\n",
    "            nbr_fea_idx.append(list(map(lambda x: x[2],\n",
    "                                        nbr[:max_num_nbr])))\n",
    "            nbr_fea.append(list(map(lambda x: x[1],\n",
    "                                    nbr[:max_num_nbr])))\n",
    "    nbr_fea_idx, nbr_fea = np.array(nbr_fea_idx), np.array(nbr_fea)\n",
    "    nbr_fea = gdf.expand(nbr_fea)\n",
    "    atom_fea = torch.Tensor(atom_fea)\n",
    "    nbr_fea = torch.Tensor(nbr_fea)\n",
    "    nbr_fea_idx = torch.LongTensor(nbr_fea_idx)\n",
    "    return (atom_fea, nbr_fea, nbr_fea_idx), torch.Tensor([float(0)]), 0"
   ]
  },
  {
   "cell_type": "code",
   "execution_count": 230,
   "metadata": {},
   "outputs": [],
   "source": [
    "structures,_,_ = toTensor(Structure.from_file(\"tes.cif\"))\n",
    "orig_atom_fea_len = structures[0].shape[-1]\n",
    "nbr_fea_len = structures[1].shape[-1]\n",
    "\n",
    "fara_checkpoint = torch.load(\"trained/faradaic/model_best.pth.tar\",\n",
    "    map_location=lambda storage, loc: storage)\n",
    "fara_args = argparse.Namespace(**fara_checkpoint['args'])\n",
    "\n",
    "fara_normalizer = Normalizer(torch.zeros(3))\n",
    "fara_normalizer.load_state_dict(fara_checkpoint['normalizer'])\n",
    "\n",
    "fara_model = CrystalGraphConvNet(orig_atom_fea_len, nbr_fea_len,\n",
    "        atom_fea_len=fara_args.atom_fea_len,\n",
    "        n_conv=fara_args.n_conv,\n",
    "        h_fea_len=fara_args.h_fea_len,\n",
    "        n_h=fara_args.n_h,\n",
    "        classification=False)\n",
    "\n",
    "volt_checkpoint = torch.load(\"trained/volts/model_best.pth.tar\",\n",
    "    map_location=lambda storage, loc: storage)\n",
    "volt_args = argparse.Namespace(**volt_checkpoint['args'])\n",
    "\n",
    "volt_normalizer = Normalizer(torch.zeros(3))\n",
    "volt_normalizer.load_state_dict(volt_checkpoint['normalizer'])\n",
    "\n",
    "volt_model = CrystalGraphConvNet(orig_atom_fea_len, nbr_fea_len,\n",
    "        atom_fea_len=fara_args.atom_fea_len,\n",
    "        n_conv=volt_args.n_conv,\n",
    "        h_fea_len=volt_args.h_fea_len,\n",
    "        n_h=volt_args.n_h,\n",
    "        classification=False)\n",
    "\n",
    "energy_checkpoint = torch.load(\"trained/free_energy/model_best.pth.tar\",\n",
    "    map_location=lambda storage, loc: storage)\n",
    "energy_args = argparse.Namespace(**energy_checkpoint['args'])\n",
    "\n",
    "energy_normalizer = Normalizer(torch.zeros(3))\n",
    "energy_normalizer.load_state_dict(energy_checkpoint['normalizer'])\n",
    "\n",
    "energy_model = CrystalGraphConvNet(orig_atom_fea_len, nbr_fea_len,\n",
    "        atom_fea_len=energy_args.atom_fea_len,\n",
    "        n_conv=energy_args.n_conv,\n",
    "        h_fea_len=energy_args.h_fea_len,\n",
    "        n_h=energy_args.n_h,\n",
    "        classification=False)"
   ]
  },
  {
   "cell_type": "code",
   "execution_count": 5,
   "metadata": {},
   "outputs": [],
   "source": [
    "@lru_cache(maxsize=None)\n",
    "def predict(tensor, model, norm):\n",
    "    return norm.denorm(model(*collate_pool([tensor])[0]).data)"
   ]
  },
  {
   "cell_type": "code",
   "execution_count": 347,
   "metadata": {},
   "outputs": [],
   "source": [
    "@lru_cache(maxsize=None)\n",
    "def fitness(fp, verbose=False):\n",
    "    mol = Structure.from_file(fp)\n",
    "    mol_tensor = toTensor(mol)\n",
    "    free_energy = predict(mol_tensor, energy_model, energy_normalizer)\n",
    "    fara_eff = predict(mol_tensor, fara_model, fara_normalizer)\n",
    "    volt = predict(mol_tensor, volt_model, volt_normalizer)\n",
    "    \n",
    "    if verbose:\n",
    "        print(f\"free_energy:{free_energy} faradaic_efficiency:{fara_eff} volt_diff:{volt}\")\n",
    "        print(fara_eff/5-free_energy*5-abs(volt)/2)\n",
    "    return fara_eff/5-free_energy*5-abs(volt)/2"
   ]
  },
  {
   "cell_type": "code",
   "execution_count": 343,
   "metadata": {},
   "outputs": [
    {
     "data": {
      "text/html": [
       "<div>\n",
       "<style scoped>\n",
       "    .dataframe tbody tr th:only-of-type {\n",
       "        vertical-align: middle;\n",
       "    }\n",
       "\n",
       "    .dataframe tbody tr th {\n",
       "        vertical-align: top;\n",
       "    }\n",
       "\n",
       "    .dataframe thead th {\n",
       "        text-align: right;\n",
       "    }\n",
       "</style>\n",
       "<table border=\"1\" class=\"dataframe\">\n",
       "  <thead>\n",
       "    <tr style=\"text-align: right;\">\n",
       "      <th></th>\n",
       "      <th>Unnamed: 0</th>\n",
       "      <th>CIF filename</th>\n",
       "      <th>fitness</th>\n",
       "    </tr>\n",
       "  </thead>\n",
       "  <tbody>\n",
       "    <tr>\n",
       "      <td>0</td>\n",
       "      <td>0</td>\n",
       "      <td>01435c55fe9f44c5a62fd3702daf534a</td>\n",
       "      <td>26.350632</td>\n",
       "    </tr>\n",
       "    <tr>\n",
       "      <td>1</td>\n",
       "      <td>1</td>\n",
       "      <td>95414098502f47e1b0180c38f92669bf</td>\n",
       "      <td>26.350624</td>\n",
       "    </tr>\n",
       "    <tr>\n",
       "      <td>2</td>\n",
       "      <td>2</td>\n",
       "      <td>4107c2090efa46848559ba82425b6156</td>\n",
       "      <td>26.346018</td>\n",
       "    </tr>\n",
       "    <tr>\n",
       "      <td>3</td>\n",
       "      <td>3</td>\n",
       "      <td>87cb85d2d45043e789e09274e4cd4ce3</td>\n",
       "      <td>26.345366</td>\n",
       "    </tr>\n",
       "    <tr>\n",
       "      <td>4</td>\n",
       "      <td>4</td>\n",
       "      <td>b9edffdc001f42a9955a3c5a8a434773</td>\n",
       "      <td>26.345366</td>\n",
       "    </tr>\n",
       "    <tr>\n",
       "      <td>...</td>\n",
       "      <td>...</td>\n",
       "      <td>...</td>\n",
       "      <td>...</td>\n",
       "    </tr>\n",
       "    <tr>\n",
       "      <td>1045</td>\n",
       "      <td>1045</td>\n",
       "      <td>da610552fedf4a79b22bdf5be1839550</td>\n",
       "      <td>26.336510</td>\n",
       "    </tr>\n",
       "    <tr>\n",
       "      <td>1046</td>\n",
       "      <td>1046</td>\n",
       "      <td>9530d29b57954abaadb99eea1af3fac6</td>\n",
       "      <td>26.345562</td>\n",
       "    </tr>\n",
       "    <tr>\n",
       "      <td>1047</td>\n",
       "      <td>1047</td>\n",
       "      <td>f71bba321c354e17ad8044835fca0066</td>\n",
       "      <td>26.344635</td>\n",
       "    </tr>\n",
       "    <tr>\n",
       "      <td>1048</td>\n",
       "      <td>1048</td>\n",
       "      <td>960428c7b0174f45a8d517f68685482b</td>\n",
       "      <td>26.334309</td>\n",
       "    </tr>\n",
       "    <tr>\n",
       "      <td>1049</td>\n",
       "      <td>1049</td>\n",
       "      <td>d0b22146cae6419a929dd7f062cbfab4</td>\n",
       "      <td>26.335142</td>\n",
       "    </tr>\n",
       "  </tbody>\n",
       "</table>\n",
       "<p>1050 rows × 3 columns</p>\n",
       "</div>"
      ],
      "text/plain": [
       "      Unnamed: 0                      CIF filename    fitness\n",
       "0              0  01435c55fe9f44c5a62fd3702daf534a  26.350632\n",
       "1              1  95414098502f47e1b0180c38f92669bf  26.350624\n",
       "2              2  4107c2090efa46848559ba82425b6156  26.346018\n",
       "3              3  87cb85d2d45043e789e09274e4cd4ce3  26.345366\n",
       "4              4  b9edffdc001f42a9955a3c5a8a434773  26.345366\n",
       "...          ...                               ...        ...\n",
       "1045        1045  da610552fedf4a79b22bdf5be1839550  26.336510\n",
       "1046        1046  9530d29b57954abaadb99eea1af3fac6  26.345562\n",
       "1047        1047  f71bba321c354e17ad8044835fca0066  26.344635\n",
       "1048        1048  960428c7b0174f45a8d517f68685482b  26.334309\n",
       "1049        1049  d0b22146cae6419a929dd7f062cbfab4  26.335142\n",
       "\n",
       "[1050 rows x 3 columns]"
      ]
     },
     "execution_count": 343,
     "metadata": {},
     "output_type": "execute_result"
    }
   ],
   "source": [
    "df = pd.read_csv(\"fitness_5.csv\")\n",
    "#df = df[[\"CIF filename\"]]\n",
    "df"
   ]
  },
  {
   "cell_type": "code",
   "execution_count": 348,
   "metadata": {},
   "outputs": [
    {
     "name": "stdout",
     "output_type": "stream",
     "text": [
      "free_energy:tensor([[-2.5278]]) faradaic_efficiency:tensor([[87.4354]]) volt_diff:tensor([[7.5507]])\n",
      "tensor([[26.3506]])\n",
      "free_energy:tensor([[-2.5177]]) faradaic_efficiency:tensor([[87.2165]]) volt_diff:tensor([[7.7221]])\n",
      "tensor([[26.1708]])\n"
     ]
    },
    {
     "data": {
      "text/plain": [
       "tensor([[26.1708]])"
      ]
     },
     "execution_count": 348,
     "metadata": {},
     "output_type": "execute_result"
    }
   ],
   "source": [
    "fitness(\"csd_mofs/01435c55fe9f44c5a62fd3702daf534a.cif\", verbose=True)\n",
    "fitness(\"csd_mofs/515966273fd940f98bdc5cb4c6a5010e.cif\", verbose=True)"
   ]
  },
  {
   "cell_type": "code",
   "execution_count": null,
   "metadata": {},
   "outputs": [
    {
     "data": {
      "application/vnd.jupyter.widget-view+json": {
       "model_id": "3b46d8ff61c5490396284e4c1485b972",
       "version_major": 2,
       "version_minor": 0
      },
      "text/plain": [
       "HBox(children=(IntProgress(value=0, max=6279), HTML(value='')))"
      ]
     },
     "metadata": {},
     "output_type": "display_data"
    }
   ],
   "source": [
    "df[\"fitness\"] = None\n",
    "for index,cif in tqdm(df.iterrows(), total=df.shape[0]):\n",
    "    try:\n",
    "        cif[\"fitness\"] = float(fitness(f\"csd_mofs/{cif['CIF filename']}.cif\"))\n",
    "    except:\n",
    "        cif[\"fitness\"] = None"
   ]
  },
  {
   "cell_type": "code",
   "execution_count": 319,
   "metadata": {},
   "outputs": [],
   "source": [
    "df = df[[\"CIF filename\",\"fitness\"]]\n",
    "df.to_csv(\"fitness_5.csv\")"
   ]
  },
  {
   "cell_type": "code",
   "execution_count": 329,
   "metadata": {},
   "outputs": [],
   "source": [
    "df = df[df[\"fitness\"] > float(\"-inf\")]"
   ]
  },
  {
   "cell_type": "code",
   "execution_count": 321,
   "metadata": {},
   "outputs": [],
   "source": [
    "df.sort_values(by=['fitness'], ascending=False, inplace=True)"
   ]
  },
  {
   "cell_type": "code",
   "execution_count": 349,
   "metadata": {},
   "outputs": [
    {
     "data": {
      "text/plain": [
       "Atoms(symbols='C96H48Fe4N8Ni2O20', pbc=True, cell=[6.8484, 32.9205, 16.5679], spacegroup_kinds=...)"
      ]
     },
     "execution_count": 349,
     "metadata": {},
     "output_type": "execute_result"
    }
   ],
   "source": [
    "io.read(\"csd_mofs/515966273fd940f98bdc5cb4c6a5010e.cif\")"
   ]
  },
  {
   "cell_type": "code",
   "execution_count": 350,
   "metadata": {},
   "outputs": [],
   "source": [
    "pop_skim = 50\n",
    "\n",
    "top = df[:pop_skim]\n",
    "next_gen = df[:pop_skim]"
   ]
  },
  {
   "cell_type": "code",
   "execution_count": 307,
   "metadata": {},
   "outputs": [
    {
     "data": {
      "application/vnd.jupyter.widget-view+json": {
       "model_id": "42bde3ddc5b4413dbad4e28dccd84400",
       "version_major": 2,
       "version_minor": 0
      },
      "text/plain": [
       "HBox(children=(IntProgress(value=0, max=1000), HTML(value='')))"
      ]
     },
     "metadata": {},
     "output_type": "display_data"
    }
   ],
   "source": [
    "for i in tqdm(range(1000)):\n",
    "    m = io.read(f\"csd_mofs/{top.sample().iloc[0]['CIF filename']}.cif\", index=\"0\")\n",
    "    f = io.read(f\"csd_mofs/{top.sample().iloc[0]['CIF filename']}.cif\", index=\"0\")\n",
    "    child = mutate(m,f)\n",
    "    uid = uuid.uuid4().hex\n",
    "    next_gen = next_gen.append({\"CIF filename\":uid,\"fitness\":None},ignore_index = True)\n",
    "    io.write(f\"csd_mofs/{uid}.cif\",child[0])"
   ]
  },
  {
   "cell_type": "code",
   "execution_count": 309,
   "metadata": {},
   "outputs": [],
   "source": [
    "next_gen.to_csv(\"gen_5.csv\")"
   ]
  },
  {
   "cell_type": "code",
   "execution_count": 310,
   "metadata": {},
   "outputs": [],
   "source": [
    "df = next_gen"
   ]
  },
  {
   "cell_type": "code",
   "execution_count": 351,
   "metadata": {},
   "outputs": [],
   "source": [
    "df = pd.read_csv(\"gen_1.csv\")"
   ]
  },
  {
   "cell_type": "code",
   "execution_count": 360,
   "metadata": {},
   "outputs": [],
   "source": [
    "df = pd.concat([df,top])[[\"CIF filename\", \"fitness\"]]"
   ]
  }
 ],
 "metadata": {
  "kernelspec": {
   "display_name": "Python 3",
   "language": "python",
   "name": "python3"
  },
  "language_info": {
   "codemirror_mode": {
    "name": "ipython",
    "version": 3
   },
   "file_extension": ".py",
   "mimetype": "text/x-python",
   "name": "python",
   "nbconvert_exporter": "python",
   "pygments_lexer": "ipython3",
   "version": "3.7.4"
  }
 },
 "nbformat": 4,
 "nbformat_minor": 2
}
