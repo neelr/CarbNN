{
 "cells": [
  {
   "cell_type": "code",
   "execution_count": 138,
   "metadata": {},
   "outputs": [],
   "source": [
    "import pandas as pd\n",
    "import uuid\n",
    "import os\n",
    "import requests\n",
    "from pymatgen.core import Structure\n",
    "from ase.ga.slab_operators import (CutSpliceSlabCrossover,\n",
    "                                   RandomSlabPermutation,\n",
    "                                   RandomCompositionMutation)\n",
    "from ase.ga.offspring_creator import OperationSelector\n",
    "from ase import io\n",
    "from ase import Atoms"
   ]
  },
  {
   "cell_type": "code",
   "execution_count": 233,
   "metadata": {},
   "outputs": [],
   "source": [
    "df = pd.read_csv (\"props.csv\")"
   ]
  },
  {
   "cell_type": "code",
   "execution_count": 239,
   "metadata": {},
   "outputs": [
    {
     "name": "stdout",
     "output_type": "stream",
     "text": [
      "00f09d76adb74b2b8a818c20499718f3\n",
      "40a96cf89cd64c908e9ceb5126c13a7d\n"
     ]
    }
   ],
   "source": [
    "for c in ids:\n",
    "    try:\n",
    "        t = io.read(f\"data/volts/{c}.cif\", index=\":\")\n",
    "        io.write(f\"data/volts/{c}.cif\", t)\n",
    "    except:\n",
    "        print(c)"
   ]
  },
  {
   "cell_type": "code",
   "execution_count": 113,
   "metadata": {},
   "outputs": [],
   "source": [
    "for idx,url in enumerate(df[\"CIF\"]):\n",
    "    r = requests.get(url, allow_redirects=True)\n",
    "    open(f\"data/volts/{ids[idx]}.cif\", 'wb').write(r.content)"
   ]
  },
  {
   "cell_type": "code",
   "execution_count": 103,
   "metadata": {},
   "outputs": [],
   "source": [
    "for idx,url in enumerate(df[\"CIF\"]):\n",
    "    r = requests.get(url, allow_redirects=True)\n",
    "    open(f\"data/faradaic/{ids[idx]}.cif\", 'wb').write(r.content)"
   ]
  },
  {
   "cell_type": "code",
   "execution_count": 236,
   "metadata": {},
   "outputs": [],
   "source": [
    "ids = df[\"file_id\"]"
   ]
  },
  {
   "cell_type": "code",
   "execution_count": 242,
   "metadata": {},
   "outputs": [
    {
     "data": {
      "text/html": [
       "<div>\n",
       "<style scoped>\n",
       "    .dataframe tbody tr th:only-of-type {\n",
       "        vertical-align: middle;\n",
       "    }\n",
       "\n",
       "    .dataframe tbody tr th {\n",
       "        vertical-align: top;\n",
       "    }\n",
       "\n",
       "    .dataframe thead th {\n",
       "        text-align: right;\n",
       "    }\n",
       "</style>\n",
       "<table border=\"1\" class=\"dataframe\">\n",
       "  <thead>\n",
       "    <tr style=\"text-align: right;\">\n",
       "      <th></th>\n",
       "      <th>Name</th>\n",
       "      <th>Volts</th>\n",
       "      <th>Product</th>\n",
       "      <th>FE</th>\n",
       "      <th>CIF</th>\n",
       "      <th>file_id</th>\n",
       "    </tr>\n",
       "  </thead>\n",
       "  <tbody>\n",
       "    <tr>\n",
       "      <td>0</td>\n",
       "      <td>Zn-BTC</td>\n",
       "      <td>2.20</td>\n",
       "      <td>CH4 CO</td>\n",
       "      <td>80.1</td>\n",
       "      <td>http://qiserver.ugr.es/cod/2006090.cif</td>\n",
       "      <td>6c5625d17977466a870c7632d627f7dd</td>\n",
       "    </tr>\n",
       "    <tr>\n",
       "      <td>1</td>\n",
       "      <td>ZIF-8</td>\n",
       "      <td>1.80</td>\n",
       "      <td>CO</td>\n",
       "      <td>65.0</td>\n",
       "      <td>http://qiserver.ugr.es/cod/4118891.cif</td>\n",
       "      <td>9fd58779f8724e148b8fe0dd7182017c</td>\n",
       "    </tr>\n",
       "    <tr>\n",
       "      <td>2</td>\n",
       "      <td>Re-SURMOF</td>\n",
       "      <td>1.60</td>\n",
       "      <td>CO</td>\n",
       "      <td>93.0</td>\n",
       "      <td>http://qiserver.ugr.es/cod/1557774.cif</td>\n",
       "      <td>c343afd9cc4e4ed88da102090cd057af</td>\n",
       "    </tr>\n",
       "    <tr>\n",
       "      <td>4</td>\n",
       "      <td>Ni-containing cyclic porphyrin dimer</td>\n",
       "      <td>0.80</td>\n",
       "      <td>CO</td>\n",
       "      <td>94.0</td>\n",
       "      <td>http://qiserver.ugr.es/cod/2004280.cif</td>\n",
       "      <td>c88dfe09ca5e41fdb4e2ccca315c265a</td>\n",
       "    </tr>\n",
       "    <tr>\n",
       "      <td>6</td>\n",
       "      <td>Al2(OH)2TCPP-Co</td>\n",
       "      <td>0.70</td>\n",
       "      <td>CO</td>\n",
       "      <td>76.0</td>\n",
       "      <td>https://doggo.ninja/N1j9t6.cif</td>\n",
       "      <td>46a4182f1d3e48278fdaad3ae69cfce3</td>\n",
       "    </tr>\n",
       "    <tr>\n",
       "      <td>7</td>\n",
       "      <td>M-PMOF</td>\n",
       "      <td>0.80</td>\n",
       "      <td>CO</td>\n",
       "      <td>98.7</td>\n",
       "      <td>https://doggo.ninja/voIIwB.cif</td>\n",
       "      <td>515966273fd940f98bdc5cb4c6a5010e</td>\n",
       "    </tr>\n",
       "    <tr>\n",
       "      <td>8</td>\n",
       "      <td>Iron Pyridyl-Carbene</td>\n",
       "      <td>1.59</td>\n",
       "      <td>CO</td>\n",
       "      <td>92.0</td>\n",
       "      <td>http://qiserver.ugr.es/cod/4518363.cif</td>\n",
       "      <td>be5e5b997ace47b1bca589a9e4da889f</td>\n",
       "    </tr>\n",
       "    <tr>\n",
       "      <td>9</td>\n",
       "      <td>CoPP@CNT</td>\n",
       "      <td>0.49</td>\n",
       "      <td>CO</td>\n",
       "      <td>98.3</td>\n",
       "      <td>http://qiserver.ugr.es/cod/7124236.cif</td>\n",
       "      <td>dfe3152eb8a849f58d0d155e47adad9c</td>\n",
       "    </tr>\n",
       "  </tbody>\n",
       "</table>\n",
       "</div>"
      ],
      "text/plain": [
       "                                   Name  Volts Product    FE  \\\n",
       "0                                Zn-BTC   2.20  CH4 CO  80.1   \n",
       "1                                 ZIF-8   1.80      CO  65.0   \n",
       "2                             Re-SURMOF   1.60      CO  93.0   \n",
       "4  Ni-containing cyclic porphyrin dimer   0.80      CO  94.0   \n",
       "6                       Al2(OH)2TCPP-Co   0.70      CO  76.0   \n",
       "7                                M-PMOF   0.80      CO  98.7   \n",
       "8                  Iron Pyridyl-Carbene   1.59      CO  92.0   \n",
       "9                              CoPP@CNT   0.49      CO  98.3   \n",
       "\n",
       "                                      CIF                           file_id  \n",
       "0  http://qiserver.ugr.es/cod/2006090.cif  6c5625d17977466a870c7632d627f7dd  \n",
       "1  http://qiserver.ugr.es/cod/4118891.cif  9fd58779f8724e148b8fe0dd7182017c  \n",
       "2  http://qiserver.ugr.es/cod/1557774.cif  c343afd9cc4e4ed88da102090cd057af  \n",
       "4  http://qiserver.ugr.es/cod/2004280.cif  c88dfe09ca5e41fdb4e2ccca315c265a  \n",
       "6          https://doggo.ninja/N1j9t6.cif  46a4182f1d3e48278fdaad3ae69cfce3  \n",
       "7          https://doggo.ninja/voIIwB.cif  515966273fd940f98bdc5cb4c6a5010e  \n",
       "8  http://qiserver.ugr.es/cod/4518363.cif  be5e5b997ace47b1bca589a9e4da889f  \n",
       "9  http://qiserver.ugr.es/cod/7124236.cif  dfe3152eb8a849f58d0d155e47adad9c  "
      ]
     },
     "execution_count": 242,
     "metadata": {},
     "output_type": "execute_result"
    }
   ],
   "source": [
    "df[(df[\"file_id\"] != '00f09d76adb74b2b8a818c20499718f3') & (df[\"file_id\"] != '40a96cf89cd64c908e9ceb5126c13a7d')]"
   ]
  },
  {
   "cell_type": "code",
   "execution_count": 243,
   "metadata": {},
   "outputs": [],
   "source": [
    "df[[\"file_id\", \"Volts\"]].to_csv(\"data/volts/id_prop.csv\", header=False, index=False)"
   ]
  },
  {
   "cell_type": "code",
   "execution_count": 148,
   "metadata": {},
   "outputs": [],
   "source": [
    "t = io.read(f\"data/volts/{ids[0]}.cif\", index=\"0\")\n",
    "d = io.read(f\"data/volts/{ids[1]}.cif\", index=\"0\")"
   ]
  },
  {
   "cell_type": "code",
   "execution_count": 222,
   "metadata": {},
   "outputs": [],
   "source": [
    "oclist = [(5, CutSpliceSlabCrossover()),\n",
    "          (1, RandomSlabPermutation()),\n",
    "          (1, RandomCompositionMutation())\n",
    "          ]\n",
    "operation_selector = OperationSelector(*zip(*oclist))\n",
    "def mutate(a,b):\n",
    "    a.info['confid'] = a.symbols\n",
    "    b.info['confid'] = b.symbols\n",
    "    op = operation_selector.get_operator()\n",
    "    if type(op).__name__ == \"CutSpliceSlabCrossover\":\n",
    "        if a.get_positions().shape[0] < b.get_positions().shape[0]:\n",
    "            del a[b.get_positions().shape[0]:]\n",
    "        else:\n",
    "            del b[a.get_positions().shape[0]:]\n",
    "    return op.get_new_individual((a,b))"
   ]
  },
  {
   "cell_type": "code",
   "execution_count": 232,
   "metadata": {},
   "outputs": [
    {
     "data": {
      "text/plain": [
       "(Atoms(symbols='C24H108N6O26', pbc=True, cell=[11.2525, 7.095, 18.612], spacegroup_kinds=...),\n",
       " 'RandomCompositionMutation: Parent O24C36N8C24H72')"
      ]
     },
     "execution_count": 232,
     "metadata": {},
     "output_type": "execute_result"
    }
   ],
   "source": [
    "mutate(t,d)"
   ]
  }
 ],
 "metadata": {
  "kernelspec": {
   "display_name": "Python 3",
   "language": "python",
   "name": "python3"
  },
  "language_info": {
   "codemirror_mode": {
    "name": "ipython",
    "version": 3
   },
   "file_extension": ".py",
   "mimetype": "text/x-python",
   "name": "python",
   "nbconvert_exporter": "python",
   "pygments_lexer": "ipython3",
   "version": "3.7.4"
  }
 },
 "nbformat": 4,
 "nbformat_minor": 2
}
